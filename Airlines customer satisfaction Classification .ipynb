{
 "cells": [
  {
   "cell_type": "markdown",
   "metadata": {},
   "source": [
    "**Importing Libraries and Data**"
   ]
  },
  {
   "cell_type": "code",
   "execution_count": 1,
   "metadata": {
    "execution": {
     "iopub.execute_input": "2022-02-16T13:32:56.215320Z",
     "iopub.status.busy": "2022-02-16T13:32:56.214602Z",
     "iopub.status.idle": "2022-02-16T13:32:57.208510Z",
     "shell.execute_reply": "2022-02-16T13:32:57.207920Z",
     "shell.execute_reply.started": "2022-02-16T13:32:56.215066Z"
    }
   },
   "outputs": [],
   "source": [
    "\n",
    "import numpy as np\n",
    "import pandas as pd\n",
    "import seaborn as sns"
   ]
  },
  {
   "cell_type": "code",
   "execution_count": 2,
   "metadata": {
    "execution": {
     "iopub.execute_input": "2022-02-16T13:32:57.212392Z",
     "iopub.status.busy": "2022-02-16T13:32:57.212139Z",
     "iopub.status.idle": "2022-02-16T13:32:57.606534Z",
     "shell.execute_reply": "2022-02-16T13:32:57.605674Z",
     "shell.execute_reply.started": "2022-02-16T13:32:57.212365Z"
    }
   },
   "outputs": [],
   "source": [
    "\n",
    "df = pd.read_csv(\"../input/airlines-customer-satisfaction/Invistico_Airline.csv\")"
   ]
  },
  {
   "cell_type": "code",
   "execution_count": 3,
   "metadata": {
    "execution": {
     "iopub.execute_input": "2022-02-16T13:32:57.608118Z",
     "iopub.status.busy": "2022-02-16T13:32:57.607853Z",
     "iopub.status.idle": "2022-02-16T13:32:57.791055Z",
     "shell.execute_reply": "2022-02-16T13:32:57.790360Z",
     "shell.execute_reply.started": "2022-02-16T13:32:57.608082Z"
    }
   },
   "outputs": [],
   "source": [
    "from sklearn.preprocessing import LabelEncoder     \n",
    "LE = LabelEncoder()\n",
    "df[\"satisfaction_cat\"] = LE.fit_transform(df[\"satisfaction\"])\n",
    "df.drop([\"satisfaction\"], axis=1, inplace=True)\n",
    "df.rename(columns = {\"satisfaction_cat\":\"satisfaction\"}, inplace = True)"
   ]
  },
  {
   "cell_type": "markdown",
   "metadata": {},
   "source": [
    "#### Data Analysis"
   ]
  },
  {
   "cell_type": "code",
   "execution_count": 4,
   "metadata": {
    "execution": {
     "iopub.execute_input": "2022-02-16T13:32:57.794491Z",
     "iopub.status.busy": "2022-02-16T13:32:57.793472Z",
     "iopub.status.idle": "2022-02-16T13:32:57.828743Z",
     "shell.execute_reply": "2022-02-16T13:32:57.827852Z",
     "shell.execute_reply.started": "2022-02-16T13:32:57.794446Z"
    }
   },
   "outputs": [
    {
     "data": {
      "text/html": [
       "<div>\n",
       "<style scoped>\n",
       "    .dataframe tbody tr th:only-of-type {\n",
       "        vertical-align: middle;\n",
       "    }\n",
       "\n",
       "    .dataframe tbody tr th {\n",
       "        vertical-align: top;\n",
       "    }\n",
       "\n",
       "    .dataframe thead th {\n",
       "        text-align: right;\n",
       "    }\n",
       "</style>\n",
       "<table border=\"1\" class=\"dataframe\">\n",
       "  <thead>\n",
       "    <tr style=\"text-align: right;\">\n",
       "      <th></th>\n",
       "      <th>Gender</th>\n",
       "      <th>Customer Type</th>\n",
       "      <th>Age</th>\n",
       "      <th>Type of Travel</th>\n",
       "      <th>Class</th>\n",
       "      <th>Flight Distance</th>\n",
       "      <th>Seat comfort</th>\n",
       "      <th>Departure/Arrival time convenient</th>\n",
       "      <th>Food and drink</th>\n",
       "      <th>Gate location</th>\n",
       "      <th>...</th>\n",
       "      <th>Ease of Online booking</th>\n",
       "      <th>On-board service</th>\n",
       "      <th>Leg room service</th>\n",
       "      <th>Baggage handling</th>\n",
       "      <th>Checkin service</th>\n",
       "      <th>Cleanliness</th>\n",
       "      <th>Online boarding</th>\n",
       "      <th>Departure Delay in Minutes</th>\n",
       "      <th>Arrival Delay in Minutes</th>\n",
       "      <th>satisfaction</th>\n",
       "    </tr>\n",
       "  </thead>\n",
       "  <tbody>\n",
       "    <tr>\n",
       "      <th>0</th>\n",
       "      <td>Female</td>\n",
       "      <td>Loyal Customer</td>\n",
       "      <td>65</td>\n",
       "      <td>Personal Travel</td>\n",
       "      <td>Eco</td>\n",
       "      <td>265</td>\n",
       "      <td>0</td>\n",
       "      <td>0</td>\n",
       "      <td>0</td>\n",
       "      <td>2</td>\n",
       "      <td>...</td>\n",
       "      <td>3</td>\n",
       "      <td>3</td>\n",
       "      <td>0</td>\n",
       "      <td>3</td>\n",
       "      <td>5</td>\n",
       "      <td>3</td>\n",
       "      <td>2</td>\n",
       "      <td>0</td>\n",
       "      <td>0.0</td>\n",
       "      <td>1</td>\n",
       "    </tr>\n",
       "    <tr>\n",
       "      <th>1</th>\n",
       "      <td>Male</td>\n",
       "      <td>Loyal Customer</td>\n",
       "      <td>47</td>\n",
       "      <td>Personal Travel</td>\n",
       "      <td>Business</td>\n",
       "      <td>2464</td>\n",
       "      <td>0</td>\n",
       "      <td>0</td>\n",
       "      <td>0</td>\n",
       "      <td>3</td>\n",
       "      <td>...</td>\n",
       "      <td>3</td>\n",
       "      <td>4</td>\n",
       "      <td>4</td>\n",
       "      <td>4</td>\n",
       "      <td>2</td>\n",
       "      <td>3</td>\n",
       "      <td>2</td>\n",
       "      <td>310</td>\n",
       "      <td>305.0</td>\n",
       "      <td>1</td>\n",
       "    </tr>\n",
       "    <tr>\n",
       "      <th>2</th>\n",
       "      <td>Female</td>\n",
       "      <td>Loyal Customer</td>\n",
       "      <td>15</td>\n",
       "      <td>Personal Travel</td>\n",
       "      <td>Eco</td>\n",
       "      <td>2138</td>\n",
       "      <td>0</td>\n",
       "      <td>0</td>\n",
       "      <td>0</td>\n",
       "      <td>3</td>\n",
       "      <td>...</td>\n",
       "      <td>2</td>\n",
       "      <td>3</td>\n",
       "      <td>3</td>\n",
       "      <td>4</td>\n",
       "      <td>4</td>\n",
       "      <td>4</td>\n",
       "      <td>2</td>\n",
       "      <td>0</td>\n",
       "      <td>0.0</td>\n",
       "      <td>1</td>\n",
       "    </tr>\n",
       "    <tr>\n",
       "      <th>3</th>\n",
       "      <td>Female</td>\n",
       "      <td>Loyal Customer</td>\n",
       "      <td>60</td>\n",
       "      <td>Personal Travel</td>\n",
       "      <td>Eco</td>\n",
       "      <td>623</td>\n",
       "      <td>0</td>\n",
       "      <td>0</td>\n",
       "      <td>0</td>\n",
       "      <td>3</td>\n",
       "      <td>...</td>\n",
       "      <td>1</td>\n",
       "      <td>1</td>\n",
       "      <td>0</td>\n",
       "      <td>1</td>\n",
       "      <td>4</td>\n",
       "      <td>1</td>\n",
       "      <td>3</td>\n",
       "      <td>0</td>\n",
       "      <td>0.0</td>\n",
       "      <td>1</td>\n",
       "    </tr>\n",
       "    <tr>\n",
       "      <th>4</th>\n",
       "      <td>Female</td>\n",
       "      <td>Loyal Customer</td>\n",
       "      <td>70</td>\n",
       "      <td>Personal Travel</td>\n",
       "      <td>Eco</td>\n",
       "      <td>354</td>\n",
       "      <td>0</td>\n",
       "      <td>0</td>\n",
       "      <td>0</td>\n",
       "      <td>3</td>\n",
       "      <td>...</td>\n",
       "      <td>2</td>\n",
       "      <td>2</td>\n",
       "      <td>0</td>\n",
       "      <td>2</td>\n",
       "      <td>4</td>\n",
       "      <td>2</td>\n",
       "      <td>5</td>\n",
       "      <td>0</td>\n",
       "      <td>0.0</td>\n",
       "      <td>1</td>\n",
       "    </tr>\n",
       "  </tbody>\n",
       "</table>\n",
       "<p>5 rows × 23 columns</p>\n",
       "</div>"
      ],
      "text/plain": [
       "   Gender   Customer Type  Age   Type of Travel     Class  Flight Distance  \\\n",
       "0  Female  Loyal Customer   65  Personal Travel       Eco              265   \n",
       "1    Male  Loyal Customer   47  Personal Travel  Business             2464   \n",
       "2  Female  Loyal Customer   15  Personal Travel       Eco             2138   \n",
       "3  Female  Loyal Customer   60  Personal Travel       Eco              623   \n",
       "4  Female  Loyal Customer   70  Personal Travel       Eco              354   \n",
       "\n",
       "   Seat comfort  Departure/Arrival time convenient  Food and drink  \\\n",
       "0             0                                  0               0   \n",
       "1             0                                  0               0   \n",
       "2             0                                  0               0   \n",
       "3             0                                  0               0   \n",
       "4             0                                  0               0   \n",
       "\n",
       "   Gate location  ...  Ease of Online booking  On-board service  \\\n",
       "0              2  ...                       3                 3   \n",
       "1              3  ...                       3                 4   \n",
       "2              3  ...                       2                 3   \n",
       "3              3  ...                       1                 1   \n",
       "4              3  ...                       2                 2   \n",
       "\n",
       "   Leg room service  Baggage handling  Checkin service  Cleanliness  \\\n",
       "0                 0                 3                5            3   \n",
       "1                 4                 4                2            3   \n",
       "2                 3                 4                4            4   \n",
       "3                 0                 1                4            1   \n",
       "4                 0                 2                4            2   \n",
       "\n",
       "   Online boarding  Departure Delay in Minutes  Arrival Delay in Minutes  \\\n",
       "0                2                           0                       0.0   \n",
       "1                2                         310                     305.0   \n",
       "2                2                           0                       0.0   \n",
       "3                3                           0                       0.0   \n",
       "4                5                           0                       0.0   \n",
       "\n",
       "   satisfaction  \n",
       "0             1  \n",
       "1             1  \n",
       "2             1  \n",
       "3             1  \n",
       "4             1  \n",
       "\n",
       "[5 rows x 23 columns]"
      ]
     },
     "execution_count": 4,
     "metadata": {},
     "output_type": "execute_result"
    }
   ],
   "source": [
    "df.head()     "
   ]
  },
  {
   "cell_type": "code",
   "execution_count": 5,
   "metadata": {
    "execution": {
     "iopub.execute_input": "2022-02-16T13:32:57.830402Z",
     "iopub.status.busy": "2022-02-16T13:32:57.830144Z",
     "iopub.status.idle": "2022-02-16T13:32:57.841932Z",
     "shell.execute_reply": "2022-02-16T13:32:57.840842Z",
     "shell.execute_reply.started": "2022-02-16T13:32:57.830367Z"
    }
   },
   "outputs": [
    {
     "data": {
      "text/plain": [
       "Gender                                object\n",
       "Customer Type                         object\n",
       "Age                                    int64\n",
       "Type of Travel                        object\n",
       "Class                                 object\n",
       "Flight Distance                        int64\n",
       "Seat comfort                           int64\n",
       "Departure/Arrival time convenient      int64\n",
       "Food and drink                         int64\n",
       "Gate location                          int64\n",
       "Inflight wifi service                  int64\n",
       "Inflight entertainment                 int64\n",
       "Online support                         int64\n",
       "Ease of Online booking                 int64\n",
       "On-board service                       int64\n",
       "Leg room service                       int64\n",
       "Baggage handling                       int64\n",
       "Checkin service                        int64\n",
       "Cleanliness                            int64\n",
       "Online boarding                        int64\n",
       "Departure Delay in Minutes             int64\n",
       "Arrival Delay in Minutes             float64\n",
       "satisfaction                           int64\n",
       "dtype: object"
      ]
     },
     "execution_count": 5,
     "metadata": {},
     "output_type": "execute_result"
    }
   ],
   "source": [
    "df.dtypes    "
   ]
  },
  {
   "cell_type": "code",
   "execution_count": 6,
   "metadata": {
    "execution": {
     "iopub.execute_input": "2022-02-16T13:32:57.843616Z",
     "iopub.status.busy": "2022-02-16T13:32:57.843344Z",
     "iopub.status.idle": "2022-02-16T13:32:57.853419Z",
     "shell.execute_reply": "2022-02-16T13:32:57.852360Z",
     "shell.execute_reply.started": "2022-02-16T13:32:57.843576Z"
    }
   },
   "outputs": [
    {
     "data": {
      "text/plain": [
       "(129880, 23)"
      ]
     },
     "execution_count": 6,
     "metadata": {},
     "output_type": "execute_result"
    }
   ],
   "source": [
    "df.shape    "
   ]
  },
  {
   "cell_type": "code",
   "execution_count": 7,
   "metadata": {
    "execution": {
     "iopub.execute_input": "2022-02-16T13:32:57.855644Z",
     "iopub.status.busy": "2022-02-16T13:32:57.854819Z",
     "iopub.status.idle": "2022-02-16T13:32:57.879067Z",
     "shell.execute_reply": "2022-02-16T13:32:57.878211Z",
     "shell.execute_reply.started": "2022-02-16T13:32:57.855577Z"
    }
   },
   "outputs": [],
   "source": [
    "\n",
    "df = df.drop([\"Departure/Arrival time convenient\"], axis=1)"
   ]
  },
  {
   "cell_type": "code",
   "execution_count": 8,
   "metadata": {
    "execution": {
     "iopub.execute_input": "2022-02-16T13:32:57.880832Z",
     "iopub.status.busy": "2022-02-16T13:32:57.880441Z",
     "iopub.status.idle": "2022-02-16T13:32:58.008569Z",
     "shell.execute_reply": "2022-02-16T13:32:58.007612Z",
     "shell.execute_reply.started": "2022-02-16T13:32:57.880783Z"
    }
   },
   "outputs": [
    {
     "data": {
      "text/html": [
       "<div>\n",
       "<style scoped>\n",
       "    .dataframe tbody tr th:only-of-type {\n",
       "        vertical-align: middle;\n",
       "    }\n",
       "\n",
       "    .dataframe tbody tr th {\n",
       "        vertical-align: top;\n",
       "    }\n",
       "\n",
       "    .dataframe thead th {\n",
       "        text-align: right;\n",
       "    }\n",
       "</style>\n",
       "<table border=\"1\" class=\"dataframe\">\n",
       "  <thead>\n",
       "    <tr style=\"text-align: right;\">\n",
       "      <th></th>\n",
       "      <th>Age</th>\n",
       "      <th>Flight Distance</th>\n",
       "      <th>Seat comfort</th>\n",
       "      <th>Food and drink</th>\n",
       "      <th>Gate location</th>\n",
       "      <th>Inflight wifi service</th>\n",
       "      <th>Inflight entertainment</th>\n",
       "      <th>Online support</th>\n",
       "      <th>Ease of Online booking</th>\n",
       "      <th>On-board service</th>\n",
       "      <th>Leg room service</th>\n",
       "      <th>Baggage handling</th>\n",
       "      <th>Checkin service</th>\n",
       "      <th>Cleanliness</th>\n",
       "      <th>Online boarding</th>\n",
       "      <th>Departure Delay in Minutes</th>\n",
       "      <th>Arrival Delay in Minutes</th>\n",
       "      <th>satisfaction</th>\n",
       "    </tr>\n",
       "  </thead>\n",
       "  <tbody>\n",
       "    <tr>\n",
       "      <th>count</th>\n",
       "      <td>129880.000000</td>\n",
       "      <td>129880.000000</td>\n",
       "      <td>129880.000000</td>\n",
       "      <td>129880.000000</td>\n",
       "      <td>129880.000000</td>\n",
       "      <td>129880.000000</td>\n",
       "      <td>129880.000000</td>\n",
       "      <td>129880.000000</td>\n",
       "      <td>129880.000000</td>\n",
       "      <td>129880.000000</td>\n",
       "      <td>129880.000000</td>\n",
       "      <td>129880.000000</td>\n",
       "      <td>129880.000000</td>\n",
       "      <td>129880.000000</td>\n",
       "      <td>129880.000000</td>\n",
       "      <td>129880.000000</td>\n",
       "      <td>129487.000000</td>\n",
       "      <td>129880.000000</td>\n",
       "    </tr>\n",
       "    <tr>\n",
       "      <th>mean</th>\n",
       "      <td>39.427957</td>\n",
       "      <td>1981.409055</td>\n",
       "      <td>2.838597</td>\n",
       "      <td>2.851994</td>\n",
       "      <td>2.990422</td>\n",
       "      <td>3.249130</td>\n",
       "      <td>3.383477</td>\n",
       "      <td>3.519703</td>\n",
       "      <td>3.472105</td>\n",
       "      <td>3.465075</td>\n",
       "      <td>3.485902</td>\n",
       "      <td>3.695673</td>\n",
       "      <td>3.340807</td>\n",
       "      <td>3.705759</td>\n",
       "      <td>3.352587</td>\n",
       "      <td>14.713713</td>\n",
       "      <td>15.091129</td>\n",
       "      <td>0.547328</td>\n",
       "    </tr>\n",
       "    <tr>\n",
       "      <th>std</th>\n",
       "      <td>15.119360</td>\n",
       "      <td>1027.115606</td>\n",
       "      <td>1.392983</td>\n",
       "      <td>1.443729</td>\n",
       "      <td>1.305970</td>\n",
       "      <td>1.318818</td>\n",
       "      <td>1.346059</td>\n",
       "      <td>1.306511</td>\n",
       "      <td>1.305560</td>\n",
       "      <td>1.270836</td>\n",
       "      <td>1.292226</td>\n",
       "      <td>1.156483</td>\n",
       "      <td>1.260582</td>\n",
       "      <td>1.151774</td>\n",
       "      <td>1.298715</td>\n",
       "      <td>38.071126</td>\n",
       "      <td>38.465650</td>\n",
       "      <td>0.497757</td>\n",
       "    </tr>\n",
       "    <tr>\n",
       "      <th>min</th>\n",
       "      <td>7.000000</td>\n",
       "      <td>50.000000</td>\n",
       "      <td>0.000000</td>\n",
       "      <td>0.000000</td>\n",
       "      <td>0.000000</td>\n",
       "      <td>0.000000</td>\n",
       "      <td>0.000000</td>\n",
       "      <td>0.000000</td>\n",
       "      <td>0.000000</td>\n",
       "      <td>0.000000</td>\n",
       "      <td>0.000000</td>\n",
       "      <td>1.000000</td>\n",
       "      <td>0.000000</td>\n",
       "      <td>0.000000</td>\n",
       "      <td>0.000000</td>\n",
       "      <td>0.000000</td>\n",
       "      <td>0.000000</td>\n",
       "      <td>0.000000</td>\n",
       "    </tr>\n",
       "    <tr>\n",
       "      <th>25%</th>\n",
       "      <td>27.000000</td>\n",
       "      <td>1359.000000</td>\n",
       "      <td>2.000000</td>\n",
       "      <td>2.000000</td>\n",
       "      <td>2.000000</td>\n",
       "      <td>2.000000</td>\n",
       "      <td>2.000000</td>\n",
       "      <td>3.000000</td>\n",
       "      <td>2.000000</td>\n",
       "      <td>3.000000</td>\n",
       "      <td>2.000000</td>\n",
       "      <td>3.000000</td>\n",
       "      <td>3.000000</td>\n",
       "      <td>3.000000</td>\n",
       "      <td>2.000000</td>\n",
       "      <td>0.000000</td>\n",
       "      <td>0.000000</td>\n",
       "      <td>0.000000</td>\n",
       "    </tr>\n",
       "    <tr>\n",
       "      <th>50%</th>\n",
       "      <td>40.000000</td>\n",
       "      <td>1925.000000</td>\n",
       "      <td>3.000000</td>\n",
       "      <td>3.000000</td>\n",
       "      <td>3.000000</td>\n",
       "      <td>3.000000</td>\n",
       "      <td>4.000000</td>\n",
       "      <td>4.000000</td>\n",
       "      <td>4.000000</td>\n",
       "      <td>4.000000</td>\n",
       "      <td>4.000000</td>\n",
       "      <td>4.000000</td>\n",
       "      <td>3.000000</td>\n",
       "      <td>4.000000</td>\n",
       "      <td>4.000000</td>\n",
       "      <td>0.000000</td>\n",
       "      <td>0.000000</td>\n",
       "      <td>1.000000</td>\n",
       "    </tr>\n",
       "    <tr>\n",
       "      <th>75%</th>\n",
       "      <td>51.000000</td>\n",
       "      <td>2544.000000</td>\n",
       "      <td>4.000000</td>\n",
       "      <td>4.000000</td>\n",
       "      <td>4.000000</td>\n",
       "      <td>4.000000</td>\n",
       "      <td>4.000000</td>\n",
       "      <td>5.000000</td>\n",
       "      <td>5.000000</td>\n",
       "      <td>4.000000</td>\n",
       "      <td>5.000000</td>\n",
       "      <td>5.000000</td>\n",
       "      <td>4.000000</td>\n",
       "      <td>5.000000</td>\n",
       "      <td>4.000000</td>\n",
       "      <td>12.000000</td>\n",
       "      <td>13.000000</td>\n",
       "      <td>1.000000</td>\n",
       "    </tr>\n",
       "    <tr>\n",
       "      <th>max</th>\n",
       "      <td>85.000000</td>\n",
       "      <td>6951.000000</td>\n",
       "      <td>5.000000</td>\n",
       "      <td>5.000000</td>\n",
       "      <td>5.000000</td>\n",
       "      <td>5.000000</td>\n",
       "      <td>5.000000</td>\n",
       "      <td>5.000000</td>\n",
       "      <td>5.000000</td>\n",
       "      <td>5.000000</td>\n",
       "      <td>5.000000</td>\n",
       "      <td>5.000000</td>\n",
       "      <td>5.000000</td>\n",
       "      <td>5.000000</td>\n",
       "      <td>5.000000</td>\n",
       "      <td>1592.000000</td>\n",
       "      <td>1584.000000</td>\n",
       "      <td>1.000000</td>\n",
       "    </tr>\n",
       "  </tbody>\n",
       "</table>\n",
       "</div>"
      ],
      "text/plain": [
       "                 Age  Flight Distance   Seat comfort  Food and drink  \\\n",
       "count  129880.000000    129880.000000  129880.000000   129880.000000   \n",
       "mean       39.427957      1981.409055       2.838597        2.851994   \n",
       "std        15.119360      1027.115606       1.392983        1.443729   \n",
       "min         7.000000        50.000000       0.000000        0.000000   \n",
       "25%        27.000000      1359.000000       2.000000        2.000000   \n",
       "50%        40.000000      1925.000000       3.000000        3.000000   \n",
       "75%        51.000000      2544.000000       4.000000        4.000000   \n",
       "max        85.000000      6951.000000       5.000000        5.000000   \n",
       "\n",
       "       Gate location  Inflight wifi service  Inflight entertainment  \\\n",
       "count  129880.000000          129880.000000           129880.000000   \n",
       "mean        2.990422               3.249130                3.383477   \n",
       "std         1.305970               1.318818                1.346059   \n",
       "min         0.000000               0.000000                0.000000   \n",
       "25%         2.000000               2.000000                2.000000   \n",
       "50%         3.000000               3.000000                4.000000   \n",
       "75%         4.000000               4.000000                4.000000   \n",
       "max         5.000000               5.000000                5.000000   \n",
       "\n",
       "       Online support  Ease of Online booking  On-board service  \\\n",
       "count   129880.000000           129880.000000     129880.000000   \n",
       "mean         3.519703                3.472105          3.465075   \n",
       "std          1.306511                1.305560          1.270836   \n",
       "min          0.000000                0.000000          0.000000   \n",
       "25%          3.000000                2.000000          3.000000   \n",
       "50%          4.000000                4.000000          4.000000   \n",
       "75%          5.000000                5.000000          4.000000   \n",
       "max          5.000000                5.000000          5.000000   \n",
       "\n",
       "       Leg room service  Baggage handling  Checkin service    Cleanliness  \\\n",
       "count     129880.000000     129880.000000    129880.000000  129880.000000   \n",
       "mean           3.485902          3.695673         3.340807       3.705759   \n",
       "std            1.292226          1.156483         1.260582       1.151774   \n",
       "min            0.000000          1.000000         0.000000       0.000000   \n",
       "25%            2.000000          3.000000         3.000000       3.000000   \n",
       "50%            4.000000          4.000000         3.000000       4.000000   \n",
       "75%            5.000000          5.000000         4.000000       5.000000   \n",
       "max            5.000000          5.000000         5.000000       5.000000   \n",
       "\n",
       "       Online boarding  Departure Delay in Minutes  Arrival Delay in Minutes  \\\n",
       "count    129880.000000               129880.000000             129487.000000   \n",
       "mean          3.352587                   14.713713                 15.091129   \n",
       "std           1.298715                   38.071126                 38.465650   \n",
       "min           0.000000                    0.000000                  0.000000   \n",
       "25%           2.000000                    0.000000                  0.000000   \n",
       "50%           4.000000                    0.000000                  0.000000   \n",
       "75%           4.000000                   12.000000                 13.000000   \n",
       "max           5.000000                 1592.000000               1584.000000   \n",
       "\n",
       "        satisfaction  \n",
       "count  129880.000000  \n",
       "mean        0.547328  \n",
       "std         0.497757  \n",
       "min         0.000000  \n",
       "25%         0.000000  \n",
       "50%         1.000000  \n",
       "75%         1.000000  \n",
       "max         1.000000  "
      ]
     },
     "execution_count": 8,
     "metadata": {},
     "output_type": "execute_result"
    }
   ],
   "source": [
    "df.describe() "
   ]
  },
  {
   "cell_type": "code",
   "execution_count": 9,
   "metadata": {
    "execution": {
     "iopub.execute_input": "2022-02-16T13:32:58.010075Z",
     "iopub.status.busy": "2022-02-16T13:32:58.009855Z",
     "iopub.status.idle": "2022-02-16T13:32:58.126031Z",
     "shell.execute_reply": "2022-02-16T13:32:58.125171Z",
     "shell.execute_reply.started": "2022-02-16T13:32:58.010050Z"
    }
   },
   "outputs": [
    {
     "data": {
      "text/html": [
       "<div>\n",
       "<style scoped>\n",
       "    .dataframe tbody tr th:only-of-type {\n",
       "        vertical-align: middle;\n",
       "    }\n",
       "\n",
       "    .dataframe tbody tr th {\n",
       "        vertical-align: top;\n",
       "    }\n",
       "\n",
       "    .dataframe thead th {\n",
       "        text-align: right;\n",
       "    }\n",
       "</style>\n",
       "<table border=\"1\" class=\"dataframe\">\n",
       "  <thead>\n",
       "    <tr style=\"text-align: right;\">\n",
       "      <th></th>\n",
       "      <th>Age</th>\n",
       "      <th>Flight Distance</th>\n",
       "      <th>Seat comfort</th>\n",
       "      <th>Food and drink</th>\n",
       "      <th>Gate location</th>\n",
       "      <th>Inflight wifi service</th>\n",
       "      <th>Inflight entertainment</th>\n",
       "      <th>Online support</th>\n",
       "      <th>Ease of Online booking</th>\n",
       "      <th>On-board service</th>\n",
       "      <th>Leg room service</th>\n",
       "      <th>Baggage handling</th>\n",
       "      <th>Checkin service</th>\n",
       "      <th>Cleanliness</th>\n",
       "      <th>Online boarding</th>\n",
       "      <th>Departure Delay in Minutes</th>\n",
       "      <th>Arrival Delay in Minutes</th>\n",
       "      <th>satisfaction</th>\n",
       "    </tr>\n",
       "  </thead>\n",
       "  <tbody>\n",
       "    <tr>\n",
       "      <th>count</th>\n",
       "      <td>129880.000000</td>\n",
       "      <td>129880.000000</td>\n",
       "      <td>129880.000000</td>\n",
       "      <td>129880.000000</td>\n",
       "      <td>129880.000000</td>\n",
       "      <td>129880.000000</td>\n",
       "      <td>129880.000000</td>\n",
       "      <td>129880.000000</td>\n",
       "      <td>129880.000000</td>\n",
       "      <td>129880.000000</td>\n",
       "      <td>129880.000000</td>\n",
       "      <td>129880.000000</td>\n",
       "      <td>129880.000000</td>\n",
       "      <td>129880.000000</td>\n",
       "      <td>129880.000000</td>\n",
       "      <td>129880.000000</td>\n",
       "      <td>129487.000000</td>\n",
       "      <td>129880.000000</td>\n",
       "    </tr>\n",
       "    <tr>\n",
       "      <th>mean</th>\n",
       "      <td>39.427957</td>\n",
       "      <td>1981.409055</td>\n",
       "      <td>2.838597</td>\n",
       "      <td>2.851994</td>\n",
       "      <td>2.990422</td>\n",
       "      <td>3.249130</td>\n",
       "      <td>3.383477</td>\n",
       "      <td>3.519703</td>\n",
       "      <td>3.472105</td>\n",
       "      <td>3.465075</td>\n",
       "      <td>3.485902</td>\n",
       "      <td>3.695673</td>\n",
       "      <td>3.340807</td>\n",
       "      <td>3.705759</td>\n",
       "      <td>3.352587</td>\n",
       "      <td>14.713713</td>\n",
       "      <td>15.091129</td>\n",
       "      <td>0.547328</td>\n",
       "    </tr>\n",
       "    <tr>\n",
       "      <th>std</th>\n",
       "      <td>15.119360</td>\n",
       "      <td>1027.115606</td>\n",
       "      <td>1.392983</td>\n",
       "      <td>1.443729</td>\n",
       "      <td>1.305970</td>\n",
       "      <td>1.318818</td>\n",
       "      <td>1.346059</td>\n",
       "      <td>1.306511</td>\n",
       "      <td>1.305560</td>\n",
       "      <td>1.270836</td>\n",
       "      <td>1.292226</td>\n",
       "      <td>1.156483</td>\n",
       "      <td>1.260582</td>\n",
       "      <td>1.151774</td>\n",
       "      <td>1.298715</td>\n",
       "      <td>38.071126</td>\n",
       "      <td>38.465650</td>\n",
       "      <td>0.497757</td>\n",
       "    </tr>\n",
       "    <tr>\n",
       "      <th>min</th>\n",
       "      <td>7.000000</td>\n",
       "      <td>50.000000</td>\n",
       "      <td>0.000000</td>\n",
       "      <td>0.000000</td>\n",
       "      <td>0.000000</td>\n",
       "      <td>0.000000</td>\n",
       "      <td>0.000000</td>\n",
       "      <td>0.000000</td>\n",
       "      <td>0.000000</td>\n",
       "      <td>0.000000</td>\n",
       "      <td>0.000000</td>\n",
       "      <td>1.000000</td>\n",
       "      <td>0.000000</td>\n",
       "      <td>0.000000</td>\n",
       "      <td>0.000000</td>\n",
       "      <td>0.000000</td>\n",
       "      <td>0.000000</td>\n",
       "      <td>0.000000</td>\n",
       "    </tr>\n",
       "    <tr>\n",
       "      <th>25%</th>\n",
       "      <td>27.000000</td>\n",
       "      <td>1359.000000</td>\n",
       "      <td>2.000000</td>\n",
       "      <td>2.000000</td>\n",
       "      <td>2.000000</td>\n",
       "      <td>2.000000</td>\n",
       "      <td>2.000000</td>\n",
       "      <td>3.000000</td>\n",
       "      <td>2.000000</td>\n",
       "      <td>3.000000</td>\n",
       "      <td>2.000000</td>\n",
       "      <td>3.000000</td>\n",
       "      <td>3.000000</td>\n",
       "      <td>3.000000</td>\n",
       "      <td>2.000000</td>\n",
       "      <td>0.000000</td>\n",
       "      <td>0.000000</td>\n",
       "      <td>0.000000</td>\n",
       "    </tr>\n",
       "    <tr>\n",
       "      <th>50%</th>\n",
       "      <td>40.000000</td>\n",
       "      <td>1925.000000</td>\n",
       "      <td>3.000000</td>\n",
       "      <td>3.000000</td>\n",
       "      <td>3.000000</td>\n",
       "      <td>3.000000</td>\n",
       "      <td>4.000000</td>\n",
       "      <td>4.000000</td>\n",
       "      <td>4.000000</td>\n",
       "      <td>4.000000</td>\n",
       "      <td>4.000000</td>\n",
       "      <td>4.000000</td>\n",
       "      <td>3.000000</td>\n",
       "      <td>4.000000</td>\n",
       "      <td>4.000000</td>\n",
       "      <td>0.000000</td>\n",
       "      <td>0.000000</td>\n",
       "      <td>1.000000</td>\n",
       "    </tr>\n",
       "    <tr>\n",
       "      <th>75%</th>\n",
       "      <td>51.000000</td>\n",
       "      <td>2544.000000</td>\n",
       "      <td>4.000000</td>\n",
       "      <td>4.000000</td>\n",
       "      <td>4.000000</td>\n",
       "      <td>4.000000</td>\n",
       "      <td>4.000000</td>\n",
       "      <td>5.000000</td>\n",
       "      <td>5.000000</td>\n",
       "      <td>4.000000</td>\n",
       "      <td>5.000000</td>\n",
       "      <td>5.000000</td>\n",
       "      <td>4.000000</td>\n",
       "      <td>5.000000</td>\n",
       "      <td>4.000000</td>\n",
       "      <td>12.000000</td>\n",
       "      <td>13.000000</td>\n",
       "      <td>1.000000</td>\n",
       "    </tr>\n",
       "    <tr>\n",
       "      <th>max</th>\n",
       "      <td>85.000000</td>\n",
       "      <td>6951.000000</td>\n",
       "      <td>5.000000</td>\n",
       "      <td>5.000000</td>\n",
       "      <td>5.000000</td>\n",
       "      <td>5.000000</td>\n",
       "      <td>5.000000</td>\n",
       "      <td>5.000000</td>\n",
       "      <td>5.000000</td>\n",
       "      <td>5.000000</td>\n",
       "      <td>5.000000</td>\n",
       "      <td>5.000000</td>\n",
       "      <td>5.000000</td>\n",
       "      <td>5.000000</td>\n",
       "      <td>5.000000</td>\n",
       "      <td>1592.000000</td>\n",
       "      <td>1584.000000</td>\n",
       "      <td>1.000000</td>\n",
       "    </tr>\n",
       "  </tbody>\n",
       "</table>\n",
       "</div>"
      ],
      "text/plain": [
       "                 Age  Flight Distance   Seat comfort  Food and drink  \\\n",
       "count  129880.000000    129880.000000  129880.000000   129880.000000   \n",
       "mean       39.427957      1981.409055       2.838597        2.851994   \n",
       "std        15.119360      1027.115606       1.392983        1.443729   \n",
       "min         7.000000        50.000000       0.000000        0.000000   \n",
       "25%        27.000000      1359.000000       2.000000        2.000000   \n",
       "50%        40.000000      1925.000000       3.000000        3.000000   \n",
       "75%        51.000000      2544.000000       4.000000        4.000000   \n",
       "max        85.000000      6951.000000       5.000000        5.000000   \n",
       "\n",
       "       Gate location  Inflight wifi service  Inflight entertainment  \\\n",
       "count  129880.000000          129880.000000           129880.000000   \n",
       "mean        2.990422               3.249130                3.383477   \n",
       "std         1.305970               1.318818                1.346059   \n",
       "min         0.000000               0.000000                0.000000   \n",
       "25%         2.000000               2.000000                2.000000   \n",
       "50%         3.000000               3.000000                4.000000   \n",
       "75%         4.000000               4.000000                4.000000   \n",
       "max         5.000000               5.000000                5.000000   \n",
       "\n",
       "       Online support  Ease of Online booking  On-board service  \\\n",
       "count   129880.000000           129880.000000     129880.000000   \n",
       "mean         3.519703                3.472105          3.465075   \n",
       "std          1.306511                1.305560          1.270836   \n",
       "min          0.000000                0.000000          0.000000   \n",
       "25%          3.000000                2.000000          3.000000   \n",
       "50%          4.000000                4.000000          4.000000   \n",
       "75%          5.000000                5.000000          4.000000   \n",
       "max          5.000000                5.000000          5.000000   \n",
       "\n",
       "       Leg room service  Baggage handling  Checkin service    Cleanliness  \\\n",
       "count     129880.000000     129880.000000    129880.000000  129880.000000   \n",
       "mean           3.485902          3.695673         3.340807       3.705759   \n",
       "std            1.292226          1.156483         1.260582       1.151774   \n",
       "min            0.000000          1.000000         0.000000       0.000000   \n",
       "25%            2.000000          3.000000         3.000000       3.000000   \n",
       "50%            4.000000          4.000000         3.000000       4.000000   \n",
       "75%            5.000000          5.000000         4.000000       5.000000   \n",
       "max            5.000000          5.000000         5.000000       5.000000   \n",
       "\n",
       "       Online boarding  Departure Delay in Minutes  Arrival Delay in Minutes  \\\n",
       "count    129880.000000               129880.000000             129487.000000   \n",
       "mean          3.352587                   14.713713                 15.091129   \n",
       "std           1.298715                   38.071126                 38.465650   \n",
       "min           0.000000                    0.000000                  0.000000   \n",
       "25%           2.000000                    0.000000                  0.000000   \n",
       "50%           4.000000                    0.000000                  0.000000   \n",
       "75%           4.000000                   12.000000                 13.000000   \n",
       "max           5.000000                 1592.000000               1584.000000   \n",
       "\n",
       "        satisfaction  \n",
       "count  129880.000000  \n",
       "mean        0.547328  \n",
       "std         0.497757  \n",
       "min         0.000000  \n",
       "25%         0.000000  \n",
       "50%         1.000000  \n",
       "75%         1.000000  \n",
       "max         1.000000  "
      ]
     },
     "execution_count": 9,
     "metadata": {},
     "output_type": "execute_result"
    }
   ],
   "source": [
    "df.describe()     "
   ]
  },
  {
   "cell_type": "code",
   "execution_count": 10,
   "metadata": {
    "execution": {
     "iopub.execute_input": "2022-02-16T13:32:58.130320Z",
     "iopub.status.busy": "2022-02-16T13:32:58.129857Z",
     "iopub.status.idle": "2022-02-16T13:33:00.146387Z",
     "shell.execute_reply": "2022-02-16T13:33:00.145773Z",
     "shell.execute_reply.started": "2022-02-16T13:32:58.130284Z"
    }
   },
   "outputs": [
    {
     "data": {
      "image/png": "[encoded data removed]",
      "text/plain": [
       "<Figure size 432x288 with 1 Axes>"
      ]
     },
     "metadata": {
      "needs_background": "light"
     },
     "output_type": "display_data"
    }
   ],
   "source": [
    "sns.barplot(x=\"Class\", y=\"satisfaction\", hue=\"Gender\", data=df).set_title(\"Airlines Customer Satisfaction Dataset\");"
   ]
  },
  {
   "cell_type": "code",
   "execution_count": 11,
   "metadata": {
    "execution": {
     "iopub.execute_input": "2022-02-16T13:33:00.148371Z",
     "iopub.status.busy": "2022-02-16T13:33:00.147565Z",
     "iopub.status.idle": "2022-02-16T13:33:01.223280Z",
     "shell.execute_reply": "2022-02-16T13:33:01.222421Z",
     "shell.execute_reply.started": "2022-02-16T13:33:00.148324Z"
    }
   },
   "outputs": [
    {
     "data": {
      "text/plain": [
       "<seaborn.axisgrid.FacetGrid at 0x7f28f7649d90>"
      ]
     },
     "execution_count": 11,
     "metadata": {},
     "output_type": "execute_result"
    },
    {
     "data": {
      "image/png": "[encoded data removed]",
      "text/plain": [
       "<Figure size 425.75x360 with 1 Axes>"
      ]
     },
     "metadata": {
      "needs_background": "light"
     },
     "output_type": "display_data"
    }
   ],
   "source": [
    "sns.catplot(data=df, kind=\"violin\", x=\"Customer Type\", y=\"Age\", hue=\"satisfaction\", split=True)"
   ]
  },
  {
   "cell_type": "markdown",
   "metadata": {},
   "source": [
    "#### Data Preprocessing"
   ]
  },
  {
   "cell_type": "code",
   "execution_count": 12,
   "metadata": {
    "execution": {
     "iopub.execute_input": "2022-02-16T13:33:01.224771Z",
     "iopub.status.busy": "2022-02-16T13:33:01.224464Z",
     "iopub.status.idle": "2022-02-16T13:33:01.292193Z",
     "shell.execute_reply": "2022-02-16T13:33:01.291413Z",
     "shell.execute_reply.started": "2022-02-16T13:33:01.224737Z"
    }
   },
   "outputs": [
    {
     "data": {
      "text/plain": [
       "Gender                          0\n",
       "Customer Type                   0\n",
       "Age                             0\n",
       "Type of Travel                  0\n",
       "Class                           0\n",
       "Flight Distance                 0\n",
       "Seat comfort                    0\n",
       "Food and drink                  0\n",
       "Gate location                   0\n",
       "Inflight wifi service           0\n",
       "Inflight entertainment          0\n",
       "Online support                  0\n",
       "Ease of Online booking          0\n",
       "On-board service                0\n",
       "Leg room service                0\n",
       "Baggage handling                0\n",
       "Checkin service                 0\n",
       "Cleanliness                     0\n",
       "Online boarding                 0\n",
       "Departure Delay in Minutes      0\n",
       "Arrival Delay in Minutes      393\n",
       "satisfaction                    0\n",
       "dtype: int64"
      ]
     },
     "execution_count": 12,
     "metadata": {},
     "output_type": "execute_result"
    }
   ],
   "source": [
    "df.isnull().sum()    "
   ]
  },
  {
   "cell_type": "code",
   "execution_count": 13,
   "metadata": {
    "execution": {
     "iopub.execute_input": "2022-02-16T13:33:01.293653Z",
     "iopub.status.busy": "2022-02-16T13:33:01.293419Z",
     "iopub.status.idle": "2022-02-16T13:33:01.306811Z",
     "shell.execute_reply": "2022-02-16T13:33:01.305666Z",
     "shell.execute_reply.started": "2022-02-16T13:33:01.293627Z"
    }
   },
   "outputs": [
    {
     "data": {
      "text/plain": [
       "0.0       72753\n",
       "1.0        2747\n",
       "2.0        2587\n",
       "3.0        2442\n",
       "4.0        2373\n",
       "          ...  \n",
       "391.0         1\n",
       "1584.0        1\n",
       "422.0         1\n",
       "333.0         1\n",
       "500.0         1\n",
       "Name: Arrival Delay in Minutes, Length: 472, dtype: int64"
      ]
     },
     "execution_count": 13,
     "metadata": {},
     "output_type": "execute_result"
    }
   ],
   "source": [
    "df[\"Arrival Delay in Minutes\"].value_counts()    "
   ]
  },
  {
   "cell_type": "code",
   "execution_count": 14,
   "metadata": {
    "execution": {
     "iopub.execute_input": "2022-02-16T13:33:01.308378Z",
     "iopub.status.busy": "2022-02-16T13:33:01.308066Z",
     "iopub.status.idle": "2022-02-16T13:33:01.449329Z",
     "shell.execute_reply": "2022-02-16T13:33:01.448604Z",
     "shell.execute_reply.started": "2022-02-16T13:33:01.308337Z"
    }
   },
   "outputs": [],
   "source": [
    "from sklearn.preprocessing import LabelEncoder    \n",
    "LE = LabelEncoder()\n",
    "df[\"Gender_cat\"] = LE.fit_transform(df[\"Gender\"])\n",
    "df[\"Customer Type_cat\"] = LE.fit_transform(df[\"Customer Type\"]) \n",
    "df[\"Type of Travel_cat\"] = LE.fit_transform(df[\"Type of Travel\"]) \n",
    "df[\"Class_cat\"] = LE.fit_transform(df[\"Class\"])"
   ]
  },
  {
   "cell_type": "code",
   "execution_count": 15,
   "metadata": {
    "execution": {
     "iopub.execute_input": "2022-02-16T13:33:01.450694Z",
     "iopub.status.busy": "2022-02-16T13:33:01.450462Z",
     "iopub.status.idle": "2022-02-16T13:33:01.473254Z",
     "shell.execute_reply": "2022-02-16T13:33:01.472549Z",
     "shell.execute_reply.started": "2022-02-16T13:33:01.450667Z"
    }
   },
   "outputs": [],
   "source": [
    "df.drop([\"Gender\", \"Customer Type\", \"Type of Travel\", \"Class\"], axis=1, inplace=True)"
   ]
  },
  {
   "cell_type": "code",
   "execution_count": 16,
   "metadata": {
    "execution": {
     "iopub.execute_input": "2022-02-16T13:33:01.476563Z",
     "iopub.status.busy": "2022-02-16T13:33:01.476322Z",
     "iopub.status.idle": "2022-02-16T13:33:02.489528Z",
     "shell.execute_reply": "2022-02-16T13:33:02.488364Z",
     "shell.execute_reply.started": "2022-02-16T13:33:01.476533Z"
    }
   },
   "outputs": [],
   "source": [
    "from sklearn.impute import SimpleImputer    \n",
    "imputer = SimpleImputer(missing_values=np.nan, strategy=\"most_frequent\")\n",
    "imputer.fit(df)\n",
    "df[:] = imputer.transform(df)"
   ]
  },
  {
   "cell_type": "code",
   "execution_count": 17,
   "metadata": {
    "execution": {
     "iopub.execute_input": "2022-02-16T13:33:02.491486Z",
     "iopub.status.busy": "2022-02-16T13:33:02.491166Z",
     "iopub.status.idle": "2022-02-16T13:33:02.526081Z",
     "shell.execute_reply": "2022-02-16T13:33:02.525490Z",
     "shell.execute_reply.started": "2022-02-16T13:33:02.491433Z"
    }
   },
   "outputs": [],
   "source": [
    "from sklearn.preprocessing import KBinsDiscretizer     \n",
    "\n",
    "Xbin = KBinsDiscretizer(n_bins=5, encode=\"ordinal\", strategy=\"quantile\")      \n",
    "df[\"Age\"] = Xbin.fit_transform(df[[\"Age\"]])"
   ]
  },
  {
   "cell_type": "code",
   "execution_count": 18,
   "metadata": {
    "execution": {
     "iopub.execute_input": "2022-02-16T13:33:02.528305Z",
     "iopub.status.busy": "2022-02-16T13:33:02.527510Z",
     "iopub.status.idle": "2022-02-16T13:33:02.540266Z",
     "shell.execute_reply": "2022-02-16T13:33:02.539642Z",
     "shell.execute_reply.started": "2022-02-16T13:33:02.528261Z"
    }
   },
   "outputs": [],
   "source": [
    "Xbin = KBinsDiscretizer(n_bins=5, encode=\"ordinal\", strategy=\"uniform\")      \n",
    "df[\"Flight Distance\"] = Xbin.fit_transform(df[[\"Flight Distance\"]])"
   ]
  },
  {
   "cell_type": "code",
   "execution_count": 19,
   "metadata": {
    "execution": {
     "iopub.execute_input": "2022-02-16T13:33:02.542221Z",
     "iopub.status.busy": "2022-02-16T13:33:02.541379Z",
     "iopub.status.idle": "2022-02-16T13:33:02.555030Z",
     "shell.execute_reply": "2022-02-16T13:33:02.554365Z",
     "shell.execute_reply.started": "2022-02-16T13:33:02.542140Z"
    }
   },
   "outputs": [],
   "source": [
    "Xbin = KBinsDiscretizer(n_bins=5, encode=\"ordinal\", strategy=\"uniform\")     \n",
    "df[\"Departure Delay in Minutes\"] = Xbin.fit_transform(df[[\"Departure Delay in Minutes\"]])"
   ]
  },
  {
   "cell_type": "code",
   "execution_count": 20,
   "metadata": {
    "execution": {
     "iopub.execute_input": "2022-02-16T13:33:02.556843Z",
     "iopub.status.busy": "2022-02-16T13:33:02.556190Z",
     "iopub.status.idle": "2022-02-16T13:33:02.565702Z",
     "shell.execute_reply": "2022-02-16T13:33:02.565204Z",
     "shell.execute_reply.started": "2022-02-16T13:33:02.556811Z"
    }
   },
   "outputs": [],
   "source": [
    "Xbin = KBinsDiscretizer(n_bins=5, encode=\"ordinal\", strategy=\"uniform\")    \n",
    "df[\"Arrival Delay in Minutes\"] = Xbin.fit_transform(df[[\"Arrival Delay in Minutes\"]])"
   ]
  },
  {
   "cell_type": "code",
   "execution_count": 21,
   "metadata": {
    "execution": {
     "iopub.execute_input": "2022-02-16T13:33:02.566811Z",
     "iopub.status.busy": "2022-02-16T13:33:02.566626Z",
     "iopub.status.idle": "2022-02-16T13:33:02.617319Z",
     "shell.execute_reply": "2022-02-16T13:33:02.616606Z",
     "shell.execute_reply.started": "2022-02-16T13:33:02.566788Z"
    }
   },
   "outputs": [
    {
     "data": {
      "text/html": [
       "<div>\n",
       "<style scoped>\n",
       "    .dataframe tbody tr th:only-of-type {\n",
       "        vertical-align: middle;\n",
       "    }\n",
       "\n",
       "    .dataframe tbody tr th {\n",
       "        vertical-align: top;\n",
       "    }\n",
       "\n",
       "    .dataframe thead th {\n",
       "        text-align: right;\n",
       "    }\n",
       "</style>\n",
       "<table border=\"1\" class=\"dataframe\">\n",
       "  <thead>\n",
       "    <tr style=\"text-align: right;\">\n",
       "      <th></th>\n",
       "      <th>Age</th>\n",
       "      <th>Flight Distance</th>\n",
       "      <th>Seat comfort</th>\n",
       "      <th>Food and drink</th>\n",
       "      <th>Gate location</th>\n",
       "      <th>Inflight wifi service</th>\n",
       "      <th>Inflight entertainment</th>\n",
       "      <th>Online support</th>\n",
       "      <th>Ease of Online booking</th>\n",
       "      <th>On-board service</th>\n",
       "      <th>...</th>\n",
       "      <th>Checkin service</th>\n",
       "      <th>Cleanliness</th>\n",
       "      <th>Online boarding</th>\n",
       "      <th>Departure Delay in Minutes</th>\n",
       "      <th>Arrival Delay in Minutes</th>\n",
       "      <th>satisfaction</th>\n",
       "      <th>Gender_cat</th>\n",
       "      <th>Customer Type_cat</th>\n",
       "      <th>Type of Travel_cat</th>\n",
       "      <th>Class_cat</th>\n",
       "    </tr>\n",
       "  </thead>\n",
       "  <tbody>\n",
       "    <tr>\n",
       "      <th>0</th>\n",
       "      <td>4.0</td>\n",
       "      <td>0.0</td>\n",
       "      <td>0.0</td>\n",
       "      <td>0.0</td>\n",
       "      <td>2.0</td>\n",
       "      <td>2.0</td>\n",
       "      <td>4.0</td>\n",
       "      <td>2.0</td>\n",
       "      <td>3.0</td>\n",
       "      <td>3.0</td>\n",
       "      <td>...</td>\n",
       "      <td>5.0</td>\n",
       "      <td>3.0</td>\n",
       "      <td>2.0</td>\n",
       "      <td>0.0</td>\n",
       "      <td>0.0</td>\n",
       "      <td>1.0</td>\n",
       "      <td>0.0</td>\n",
       "      <td>0.0</td>\n",
       "      <td>1.0</td>\n",
       "      <td>1.0</td>\n",
       "    </tr>\n",
       "    <tr>\n",
       "      <th>1</th>\n",
       "      <td>3.0</td>\n",
       "      <td>1.0</td>\n",
       "      <td>0.0</td>\n",
       "      <td>0.0</td>\n",
       "      <td>3.0</td>\n",
       "      <td>0.0</td>\n",
       "      <td>2.0</td>\n",
       "      <td>2.0</td>\n",
       "      <td>3.0</td>\n",
       "      <td>4.0</td>\n",
       "      <td>...</td>\n",
       "      <td>2.0</td>\n",
       "      <td>3.0</td>\n",
       "      <td>2.0</td>\n",
       "      <td>0.0</td>\n",
       "      <td>0.0</td>\n",
       "      <td>1.0</td>\n",
       "      <td>1.0</td>\n",
       "      <td>0.0</td>\n",
       "      <td>1.0</td>\n",
       "      <td>0.0</td>\n",
       "    </tr>\n",
       "    <tr>\n",
       "      <th>2</th>\n",
       "      <td>0.0</td>\n",
       "      <td>1.0</td>\n",
       "      <td>0.0</td>\n",
       "      <td>0.0</td>\n",
       "      <td>3.0</td>\n",
       "      <td>2.0</td>\n",
       "      <td>0.0</td>\n",
       "      <td>2.0</td>\n",
       "      <td>2.0</td>\n",
       "      <td>3.0</td>\n",
       "      <td>...</td>\n",
       "      <td>4.0</td>\n",
       "      <td>4.0</td>\n",
       "      <td>2.0</td>\n",
       "      <td>0.0</td>\n",
       "      <td>0.0</td>\n",
       "      <td>1.0</td>\n",
       "      <td>0.0</td>\n",
       "      <td>0.0</td>\n",
       "      <td>1.0</td>\n",
       "      <td>1.0</td>\n",
       "    </tr>\n",
       "    <tr>\n",
       "      <th>3</th>\n",
       "      <td>4.0</td>\n",
       "      <td>0.0</td>\n",
       "      <td>0.0</td>\n",
       "      <td>0.0</td>\n",
       "      <td>3.0</td>\n",
       "      <td>3.0</td>\n",
       "      <td>4.0</td>\n",
       "      <td>3.0</td>\n",
       "      <td>1.0</td>\n",
       "      <td>1.0</td>\n",
       "      <td>...</td>\n",
       "      <td>4.0</td>\n",
       "      <td>1.0</td>\n",
       "      <td>3.0</td>\n",
       "      <td>0.0</td>\n",
       "      <td>0.0</td>\n",
       "      <td>1.0</td>\n",
       "      <td>0.0</td>\n",
       "      <td>0.0</td>\n",
       "      <td>1.0</td>\n",
       "      <td>1.0</td>\n",
       "    </tr>\n",
       "    <tr>\n",
       "      <th>4</th>\n",
       "      <td>4.0</td>\n",
       "      <td>0.0</td>\n",
       "      <td>0.0</td>\n",
       "      <td>0.0</td>\n",
       "      <td>3.0</td>\n",
       "      <td>4.0</td>\n",
       "      <td>3.0</td>\n",
       "      <td>4.0</td>\n",
       "      <td>2.0</td>\n",
       "      <td>2.0</td>\n",
       "      <td>...</td>\n",
       "      <td>4.0</td>\n",
       "      <td>2.0</td>\n",
       "      <td>5.0</td>\n",
       "      <td>0.0</td>\n",
       "      <td>0.0</td>\n",
       "      <td>1.0</td>\n",
       "      <td>0.0</td>\n",
       "      <td>0.0</td>\n",
       "      <td>1.0</td>\n",
       "      <td>1.0</td>\n",
       "    </tr>\n",
       "    <tr>\n",
       "      <th>...</th>\n",
       "      <td>...</td>\n",
       "      <td>...</td>\n",
       "      <td>...</td>\n",
       "      <td>...</td>\n",
       "      <td>...</td>\n",
       "      <td>...</td>\n",
       "      <td>...</td>\n",
       "      <td>...</td>\n",
       "      <td>...</td>\n",
       "      <td>...</td>\n",
       "      <td>...</td>\n",
       "      <td>...</td>\n",
       "      <td>...</td>\n",
       "      <td>...</td>\n",
       "      <td>...</td>\n",
       "      <td>...</td>\n",
       "      <td>...</td>\n",
       "      <td>...</td>\n",
       "      <td>...</td>\n",
       "      <td>...</td>\n",
       "      <td>...</td>\n",
       "    </tr>\n",
       "    <tr>\n",
       "      <th>129875</th>\n",
       "      <td>1.0</td>\n",
       "      <td>1.0</td>\n",
       "      <td>5.0</td>\n",
       "      <td>5.0</td>\n",
       "      <td>3.0</td>\n",
       "      <td>2.0</td>\n",
       "      <td>5.0</td>\n",
       "      <td>2.0</td>\n",
       "      <td>2.0</td>\n",
       "      <td>3.0</td>\n",
       "      <td>...</td>\n",
       "      <td>4.0</td>\n",
       "      <td>4.0</td>\n",
       "      <td>2.0</td>\n",
       "      <td>0.0</td>\n",
       "      <td>0.0</td>\n",
       "      <td>1.0</td>\n",
       "      <td>0.0</td>\n",
       "      <td>1.0</td>\n",
       "      <td>1.0</td>\n",
       "      <td>1.0</td>\n",
       "    </tr>\n",
       "    <tr>\n",
       "      <th>129876</th>\n",
       "      <td>4.0</td>\n",
       "      <td>1.0</td>\n",
       "      <td>2.0</td>\n",
       "      <td>2.0</td>\n",
       "      <td>4.0</td>\n",
       "      <td>2.0</td>\n",
       "      <td>1.0</td>\n",
       "      <td>1.0</td>\n",
       "      <td>3.0</td>\n",
       "      <td>2.0</td>\n",
       "      <td>...</td>\n",
       "      <td>1.0</td>\n",
       "      <td>2.0</td>\n",
       "      <td>1.0</td>\n",
       "      <td>0.0</td>\n",
       "      <td>0.0</td>\n",
       "      <td>0.0</td>\n",
       "      <td>1.0</td>\n",
       "      <td>1.0</td>\n",
       "      <td>1.0</td>\n",
       "      <td>0.0</td>\n",
       "    </tr>\n",
       "    <tr>\n",
       "      <th>129877</th>\n",
       "      <td>4.0</td>\n",
       "      <td>1.0</td>\n",
       "      <td>3.0</td>\n",
       "      <td>3.0</td>\n",
       "      <td>3.0</td>\n",
       "      <td>3.0</td>\n",
       "      <td>2.0</td>\n",
       "      <td>2.0</td>\n",
       "      <td>4.0</td>\n",
       "      <td>4.0</td>\n",
       "      <td>...</td>\n",
       "      <td>2.0</td>\n",
       "      <td>3.0</td>\n",
       "      <td>2.0</td>\n",
       "      <td>0.0</td>\n",
       "      <td>0.0</td>\n",
       "      <td>0.0</td>\n",
       "      <td>1.0</td>\n",
       "      <td>1.0</td>\n",
       "      <td>1.0</td>\n",
       "      <td>1.0</td>\n",
       "    </tr>\n",
       "    <tr>\n",
       "      <th>129878</th>\n",
       "      <td>4.0</td>\n",
       "      <td>1.0</td>\n",
       "      <td>3.0</td>\n",
       "      <td>3.0</td>\n",
       "      <td>2.0</td>\n",
       "      <td>3.0</td>\n",
       "      <td>2.0</td>\n",
       "      <td>2.0</td>\n",
       "      <td>3.0</td>\n",
       "      <td>3.0</td>\n",
       "      <td>...</td>\n",
       "      <td>2.0</td>\n",
       "      <td>1.0</td>\n",
       "      <td>2.0</td>\n",
       "      <td>0.0</td>\n",
       "      <td>0.0</td>\n",
       "      <td>0.0</td>\n",
       "      <td>1.0</td>\n",
       "      <td>1.0</td>\n",
       "      <td>1.0</td>\n",
       "      <td>1.0</td>\n",
       "    </tr>\n",
       "    <tr>\n",
       "      <th>129879</th>\n",
       "      <td>2.0</td>\n",
       "      <td>3.0</td>\n",
       "      <td>3.0</td>\n",
       "      <td>3.0</td>\n",
       "      <td>3.0</td>\n",
       "      <td>3.0</td>\n",
       "      <td>3.0</td>\n",
       "      <td>3.0</td>\n",
       "      <td>4.0</td>\n",
       "      <td>5.0</td>\n",
       "      <td>...</td>\n",
       "      <td>3.0</td>\n",
       "      <td>3.0</td>\n",
       "      <td>3.0</td>\n",
       "      <td>0.0</td>\n",
       "      <td>0.0</td>\n",
       "      <td>0.0</td>\n",
       "      <td>0.0</td>\n",
       "      <td>1.0</td>\n",
       "      <td>1.0</td>\n",
       "      <td>1.0</td>\n",
       "    </tr>\n",
       "  </tbody>\n",
       "</table>\n",
       "<p>129880 rows × 22 columns</p>\n",
       "</div>"
      ],
      "text/plain": [
       "        Age  Flight Distance  Seat comfort  Food and drink  Gate location  \\\n",
       "0       4.0              0.0           0.0             0.0            2.0   \n",
       "1       3.0              1.0           0.0             0.0            3.0   \n",
       "2       0.0              1.0           0.0             0.0            3.0   \n",
       "3       4.0              0.0           0.0             0.0            3.0   \n",
       "4       4.0              0.0           0.0             0.0            3.0   \n",
       "...     ...              ...           ...             ...            ...   \n",
       "129875  1.0              1.0           5.0             5.0            3.0   \n",
       "129876  4.0              1.0           2.0             2.0            4.0   \n",
       "129877  4.0              1.0           3.0             3.0            3.0   \n",
       "129878  4.0              1.0           3.0             3.0            2.0   \n",
       "129879  2.0              3.0           3.0             3.0            3.0   \n",
       "\n",
       "        Inflight wifi service  Inflight entertainment  Online support  \\\n",
       "0                         2.0                     4.0             2.0   \n",
       "1                         0.0                     2.0             2.0   \n",
       "2                         2.0                     0.0             2.0   \n",
       "3                         3.0                     4.0             3.0   \n",
       "4                         4.0                     3.0             4.0   \n",
       "...                       ...                     ...             ...   \n",
       "129875                    2.0                     5.0             2.0   \n",
       "129876                    2.0                     1.0             1.0   \n",
       "129877                    3.0                     2.0             2.0   \n",
       "129878                    3.0                     2.0             2.0   \n",
       "129879                    3.0                     3.0             3.0   \n",
       "\n",
       "        Ease of Online booking  On-board service  ...  Checkin service  \\\n",
       "0                          3.0               3.0  ...              5.0   \n",
       "1                          3.0               4.0  ...              2.0   \n",
       "2                          2.0               3.0  ...              4.0   \n",
       "3                          1.0               1.0  ...              4.0   \n",
       "4                          2.0               2.0  ...              4.0   \n",
       "...                        ...               ...  ...              ...   \n",
       "129875                     2.0               3.0  ...              4.0   \n",
       "129876                     3.0               2.0  ...              1.0   \n",
       "129877                     4.0               4.0  ...              2.0   \n",
       "129878                     3.0               3.0  ...              2.0   \n",
       "129879                     4.0               5.0  ...              3.0   \n",
       "\n",
       "        Cleanliness  Online boarding  Departure Delay in Minutes  \\\n",
       "0               3.0              2.0                         0.0   \n",
       "1               3.0              2.0                         0.0   \n",
       "2               4.0              2.0                         0.0   \n",
       "3               1.0              3.0                         0.0   \n",
       "4               2.0              5.0                         0.0   \n",
       "...             ...              ...                         ...   \n",
       "129875          4.0              2.0                         0.0   \n",
       "129876          2.0              1.0                         0.0   \n",
       "129877          3.0              2.0                         0.0   \n",
       "129878          1.0              2.0                         0.0   \n",
       "129879          3.0              3.0                         0.0   \n",
       "\n",
       "        Arrival Delay in Minutes  satisfaction  Gender_cat  Customer Type_cat  \\\n",
       "0                            0.0           1.0         0.0                0.0   \n",
       "1                            0.0           1.0         1.0                0.0   \n",
       "2                            0.0           1.0         0.0                0.0   \n",
       "3                            0.0           1.0         0.0                0.0   \n",
       "4                            0.0           1.0         0.0                0.0   \n",
       "...                          ...           ...         ...                ...   \n",
       "129875                       0.0           1.0         0.0                1.0   \n",
       "129876                       0.0           0.0         1.0                1.0   \n",
       "129877                       0.0           0.0         1.0                1.0   \n",
       "129878                       0.0           0.0         1.0                1.0   \n",
       "129879                       0.0           0.0         0.0                1.0   \n",
       "\n",
       "        Type of Travel_cat  Class_cat  \n",
       "0                      1.0        1.0  \n",
       "1                      1.0        0.0  \n",
       "2                      1.0        1.0  \n",
       "3                      1.0        1.0  \n",
       "4                      1.0        1.0  \n",
       "...                    ...        ...  \n",
       "129875                 1.0        1.0  \n",
       "129876                 1.0        0.0  \n",
       "129877                 1.0        1.0  \n",
       "129878                 1.0        1.0  \n",
       "129879                 1.0        1.0  \n",
       "\n",
       "[129880 rows x 22 columns]"
      ]
     },
     "execution_count": 21,
     "metadata": {},
     "output_type": "execute_result"
    }
   ],
   "source": [
    "df"
   ]
  },
  {
   "cell_type": "markdown",
   "metadata": {},
   "source": [
    "#### Preparing the Training and Test Set"
   ]
  },
  {
   "cell_type": "code",
   "execution_count": 22,
   "metadata": {
    "execution": {
     "iopub.execute_input": "2022-02-16T13:33:02.618425Z",
     "iopub.status.busy": "2022-02-16T13:33:02.618239Z",
     "iopub.status.idle": "2022-02-16T13:33:02.622656Z",
     "shell.execute_reply": "2022-02-16T13:33:02.621990Z",
     "shell.execute_reply.started": "2022-02-16T13:33:02.618403Z"
    }
   },
   "outputs": [],
   "source": [
    "X = df.loc[:,:]     \n",
    "y = df.loc[:,\"satisfaction\"]    "
   ]
  },
  {
   "cell_type": "code",
   "execution_count": 23,
   "metadata": {
    "execution": {
     "iopub.execute_input": "2022-02-16T13:33:02.623721Z",
     "iopub.status.busy": "2022-02-16T13:33:02.623539Z",
     "iopub.status.idle": "2022-02-16T13:33:02.638077Z",
     "shell.execute_reply": "2022-02-16T13:33:02.637523Z",
     "shell.execute_reply.started": "2022-02-16T13:33:02.623698Z"
    }
   },
   "outputs": [],
   "source": [
    "X.drop([\"satisfaction\"], axis=1, inplace=True)"
   ]
  },
  {
   "cell_type": "code",
   "execution_count": 24,
   "metadata": {
    "execution": {
     "iopub.execute_input": "2022-02-16T13:33:02.640355Z",
     "iopub.status.busy": "2022-02-16T13:33:02.639845Z",
     "iopub.status.idle": "2022-02-16T13:33:02.675714Z",
     "shell.execute_reply": "2022-02-16T13:33:02.674823Z",
     "shell.execute_reply.started": "2022-02-16T13:33:02.640324Z"
    }
   },
   "outputs": [],
   "source": [
    "\n",
    "from sklearn.model_selection import train_test_split\n",
    "X_train, X_test, y_train, y_test = train_test_split(X, y, test_size = 0.30, random_state = 42)"
   ]
  },
  {
   "cell_type": "markdown",
   "metadata": {},
   "source": [
    "####  Training"
   ]
  },
  {
   "cell_type": "code",
   "execution_count": 25,
   "metadata": {
    "execution": {
     "iopub.execute_input": "2022-02-16T13:33:02.677514Z",
     "iopub.status.busy": "2022-02-16T13:33:02.677106Z",
     "iopub.status.idle": "2022-02-16T13:33:03.112254Z",
     "shell.execute_reply": "2022-02-16T13:33:03.111543Z",
     "shell.execute_reply.started": "2022-02-16T13:33:02.677469Z"
    }
   },
   "outputs": [
    {
     "data": {
      "text/plain": [
       "DecisionTreeClassifier()"
      ]
     },
     "execution_count": 25,
     "metadata": {},
     "output_type": "execute_result"
    }
   ],
   "source": [
    "\n",
    "from sklearn.tree import DecisionTreeClassifier\n",
    "dt_model = DecisionTreeClassifier()\n",
    "dt_model.fit(X_train, y_train)"
   ]
  },
  {
   "cell_type": "code",
   "execution_count": 26,
   "metadata": {
    "execution": {
     "iopub.execute_input": "2022-02-16T13:33:03.113515Z",
     "iopub.status.busy": "2022-02-16T13:33:03.113243Z",
     "iopub.status.idle": "2022-02-16T13:33:03.127199Z",
     "shell.execute_reply": "2022-02-16T13:33:03.126599Z",
     "shell.execute_reply.started": "2022-02-16T13:33:03.113486Z"
    }
   },
   "outputs": [],
   "source": [
    "\n",
    "y_test_dt = dt_model.predict(X_test)"
   ]
  },
  {
   "cell_type": "code",
   "execution_count": 27,
   "metadata": {
    "execution": {
     "iopub.execute_input": "2022-02-16T13:33:03.128381Z",
     "iopub.status.busy": "2022-02-16T13:33:03.128169Z",
     "iopub.status.idle": "2022-02-16T13:33:03.140798Z",
     "shell.execute_reply": "2022-02-16T13:33:03.140215Z",
     "shell.execute_reply.started": "2022-02-16T13:33:03.128355Z"
    }
   },
   "outputs": [
    {
     "data": {
      "text/plain": [
       "0.9377117339082229"
      ]
     },
     "execution_count": 27,
     "metadata": {},
     "output_type": "execute_result"
    }
   ],
   "source": [
    "\n",
    "from sklearn.metrics import accuracy_score\n",
    "acc_dt = accuracy_score(y_test, y_test_dt)\n",
    "acc_dt"
   ]
  },
  {
   "cell_type": "code",
   "execution_count": 28,
   "metadata": {
    "execution": {
     "iopub.execute_input": "2022-02-16T13:33:03.144967Z",
     "iopub.status.busy": "2022-02-16T13:33:03.144424Z",
     "iopub.status.idle": "2022-02-16T13:33:04.239995Z",
     "shell.execute_reply": "2022-02-16T13:33:04.239201Z",
     "shell.execute_reply.started": "2022-02-16T13:33:03.144935Z"
    }
   },
   "outputs": [
    {
     "data": {
      "text/plain": [
       "KNeighborsClassifier()"
      ]
     },
     "execution_count": 28,
     "metadata": {},
     "output_type": "execute_result"
    }
   ],
   "source": [
    "\n",
    "from sklearn.neighbors import KNeighborsClassifier\n",
    "knn_model = KNeighborsClassifier(n_neighbors=5, metric=\"minkowski\", p=2)\n",
    "knn_model.fit(X_train, y_train)"
   ]
  },
  {
   "cell_type": "code",
   "execution_count": 29,
   "metadata": {
    "execution": {
     "iopub.execute_input": "2022-02-16T13:33:04.241321Z",
     "iopub.status.busy": "2022-02-16T13:33:04.241056Z",
     "iopub.status.idle": "2022-02-16T13:33:56.680810Z",
     "shell.execute_reply": "2022-02-16T13:33:56.680067Z",
     "shell.execute_reply.started": "2022-02-16T13:33:04.241294Z"
    }
   },
   "outputs": [],
   "source": [
    "\n",
    "y_test_knn = knn_model.predict(X_test)"
   ]
  },
  {
   "cell_type": "code",
   "execution_count": 30,
   "metadata": {
    "execution": {
     "iopub.execute_input": "2022-02-16T13:33:56.682690Z",
     "iopub.status.busy": "2022-02-16T13:33:56.682038Z",
     "iopub.status.idle": "2022-02-16T13:33:56.695453Z",
     "shell.execute_reply": "2022-02-16T13:33:56.694545Z",
     "shell.execute_reply.started": "2022-02-16T13:33:56.682655Z"
    }
   },
   "outputs": [
    {
     "data": {
      "text/plain": [
       "0.9245970639564727"
      ]
     },
     "execution_count": 30,
     "metadata": {},
     "output_type": "execute_result"
    }
   ],
   "source": [
    "\n",
    "from sklearn.metrics import accuracy_score\n",
    "acc_knn = accuracy_score(y_test, y_test_knn)\n",
    "acc_knn"
   ]
  },
  {
   "cell_type": "code",
   "execution_count": 31,
   "metadata": {
    "execution": {
     "iopub.execute_input": "2022-02-16T13:33:56.697084Z",
     "iopub.status.busy": "2022-02-16T13:33:56.696675Z",
     "iopub.status.idle": "2022-02-16T13:33:56.745865Z",
     "shell.execute_reply": "2022-02-16T13:33:56.745120Z",
     "shell.execute_reply.started": "2022-02-16T13:33:56.697041Z"
    }
   },
   "outputs": [
    {
     "data": {
      "text/plain": [
       "GaussianNB()"
      ]
     },
     "execution_count": 31,
     "metadata": {},
     "output_type": "execute_result"
    }
   ],
   "source": [
    "\n",
    "from sklearn.naive_bayes import GaussianNB\n",
    "nb_model = GaussianNB()\n",
    "nb_model.fit(X_train, y_train)"
   ]
  },
  {
   "cell_type": "code",
   "execution_count": 32,
   "metadata": {
    "execution": {
     "iopub.execute_input": "2022-02-16T13:33:56.747279Z",
     "iopub.status.busy": "2022-02-16T13:33:56.746922Z",
     "iopub.status.idle": "2022-02-16T13:33:56.760488Z",
     "shell.execute_reply": "2022-02-16T13:33:56.759697Z",
     "shell.execute_reply.started": "2022-02-16T13:33:56.747249Z"
    }
   },
   "outputs": [],
   "source": [
    "\n",
    "y_test_nb = nb_model.predict(X_test)"
   ]
  }
 ],
 "metadata": {
  "kernelspec": {
   "display_name": "Python 3",
   "language": "python",
   "name": "python3"
  },
  "language_info": {
   "codemirror_mode": {
    "name": "ipython",
    "version": 3
   },
   "file_extension": ".py",
   "mimetype": "text/x-python",
   "name": "python",
   "nbconvert_exporter": "python",
   "pygments_lexer": "ipython3",
   "version": "3.8.8"
  }
 },
 "nbformat": 4,
 "nbformat_minor": 4
}
